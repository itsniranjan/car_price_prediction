{
 "cells": [
  {
   "cell_type": "code",
   "execution_count": 1,
   "id": "6ccd939d",
   "metadata": {},
   "outputs": [
    {
     "output_type": "error",
     "ename": "ModuleNotFoundError",
     "evalue": "No module named 'pandas'",
     "traceback": [
      "\u001b[1;31m---------------------------------------------------------------------------\u001b[0m",
      "\u001b[1;31mModuleNotFoundError\u001b[0m                       Traceback (most recent call last)",
      "\u001b[1;32m<ipython-input-1-7b69af8e12fd>\u001b[0m in \u001b[0;36m<module>\u001b[1;34m\u001b[0m\n\u001b[1;32m----> 1\u001b[1;33m \u001b[1;32mimport\u001b[0m \u001b[0mpandas\u001b[0m \u001b[1;32mas\u001b[0m \u001b[0mpd\u001b[0m\u001b[1;33m\u001b[0m\u001b[1;33m\u001b[0m\u001b[0m\n\u001b[0m\u001b[0;32m      2\u001b[0m \u001b[1;32mimport\u001b[0m \u001b[0mnumpy\u001b[0m \u001b[1;32mas\u001b[0m \u001b[0mnp\u001b[0m\u001b[1;33m\u001b[0m\u001b[1;33m\u001b[0m\u001b[0m\n\u001b[0;32m      3\u001b[0m \u001b[1;32mimport\u001b[0m \u001b[0mmatplotlib\u001b[0m\u001b[1;33m.\u001b[0m\u001b[0mpyplot\u001b[0m \u001b[1;32mas\u001b[0m \u001b[0mplt\u001b[0m\u001b[1;33m\u001b[0m\u001b[1;33m\u001b[0m\u001b[0m\n\u001b[0;32m      4\u001b[0m \u001b[1;32mimport\u001b[0m \u001b[0mseaborn\u001b[0m \u001b[1;32mas\u001b[0m \u001b[0msns\u001b[0m\u001b[1;33m\u001b[0m\u001b[1;33m\u001b[0m\u001b[0m\n",
      "\u001b[1;31mModuleNotFoundError\u001b[0m: No module named 'pandas'"
     ]
    }
   ],
   "source": [
    "import pandas as pd\n",
    "import numpy as np\n",
    "import matplotlib.pyplot as plt\n",
    "import seaborn as sns"
   ]
  },
  {
   "cell_type": "code",
   "execution_count": 4,
   "id": "35df620b",
   "metadata": {},
   "outputs": [],
   "source": [
    "df=pd.read_csv('car data.csv')"
   ]
  },
  {
   "cell_type": "code",
   "execution_count": 5,
   "id": "d5fbe1b6",
   "metadata": {},
   "outputs": [
    {
     "data": {
      "text/html": [
       "<div>\n",
       "<style scoped>\n",
       "    .dataframe tbody tr th:only-of-type {\n",
       "        vertical-align: middle;\n",
       "    }\n",
       "\n",
       "    .dataframe tbody tr th {\n",
       "        vertical-align: top;\n",
       "    }\n",
       "\n",
       "    .dataframe thead th {\n",
       "        text-align: right;\n",
       "    }\n",
       "</style>\n",
       "<table border=\"1\" class=\"dataframe\">\n",
       "  <thead>\n",
       "    <tr style=\"text-align: right;\">\n",
       "      <th></th>\n",
       "      <th>Car_Name</th>\n",
       "      <th>Year</th>\n",
       "      <th>Selling_Price</th>\n",
       "      <th>Present_Price</th>\n",
       "      <th>Kms_Driven</th>\n",
       "      <th>Fuel_Type</th>\n",
       "      <th>Seller_Type</th>\n",
       "      <th>Transmission</th>\n",
       "      <th>Owner</th>\n",
       "    </tr>\n",
       "  </thead>\n",
       "  <tbody>\n",
       "    <tr>\n",
       "      <th>0</th>\n",
       "      <td>ritz</td>\n",
       "      <td>2014</td>\n",
       "      <td>3.35</td>\n",
       "      <td>5.59</td>\n",
       "      <td>27000</td>\n",
       "      <td>Petrol</td>\n",
       "      <td>Dealer</td>\n",
       "      <td>Manual</td>\n",
       "      <td>0</td>\n",
       "    </tr>\n",
       "    <tr>\n",
       "      <th>1</th>\n",
       "      <td>sx4</td>\n",
       "      <td>2013</td>\n",
       "      <td>4.75</td>\n",
       "      <td>9.54</td>\n",
       "      <td>43000</td>\n",
       "      <td>Diesel</td>\n",
       "      <td>Dealer</td>\n",
       "      <td>Manual</td>\n",
       "      <td>0</td>\n",
       "    </tr>\n",
       "    <tr>\n",
       "      <th>2</th>\n",
       "      <td>ciaz</td>\n",
       "      <td>2017</td>\n",
       "      <td>7.25</td>\n",
       "      <td>9.85</td>\n",
       "      <td>6900</td>\n",
       "      <td>Petrol</td>\n",
       "      <td>Dealer</td>\n",
       "      <td>Manual</td>\n",
       "      <td>0</td>\n",
       "    </tr>\n",
       "    <tr>\n",
       "      <th>3</th>\n",
       "      <td>wagon r</td>\n",
       "      <td>2011</td>\n",
       "      <td>2.85</td>\n",
       "      <td>4.15</td>\n",
       "      <td>5200</td>\n",
       "      <td>Petrol</td>\n",
       "      <td>Dealer</td>\n",
       "      <td>Manual</td>\n",
       "      <td>0</td>\n",
       "    </tr>\n",
       "    <tr>\n",
       "      <th>4</th>\n",
       "      <td>swift</td>\n",
       "      <td>2014</td>\n",
       "      <td>4.60</td>\n",
       "      <td>6.87</td>\n",
       "      <td>42450</td>\n",
       "      <td>Diesel</td>\n",
       "      <td>Dealer</td>\n",
       "      <td>Manual</td>\n",
       "      <td>0</td>\n",
       "    </tr>\n",
       "  </tbody>\n",
       "</table>\n",
       "</div>"
      ],
      "text/plain": [
       "  Car_Name  Year  Selling_Price  Present_Price  Kms_Driven Fuel_Type  \\\n",
       "0     ritz  2014           3.35           5.59       27000    Petrol   \n",
       "1      sx4  2013           4.75           9.54       43000    Diesel   \n",
       "2     ciaz  2017           7.25           9.85        6900    Petrol   \n",
       "3  wagon r  2011           2.85           4.15        5200    Petrol   \n",
       "4    swift  2014           4.60           6.87       42450    Diesel   \n",
       "\n",
       "  Seller_Type Transmission  Owner  \n",
       "0      Dealer       Manual      0  \n",
       "1      Dealer       Manual      0  \n",
       "2      Dealer       Manual      0  \n",
       "3      Dealer       Manual      0  \n",
       "4      Dealer       Manual      0  "
      ]
     },
     "execution_count": 5,
     "metadata": {},
     "output_type": "execute_result"
    }
   ],
   "source": [
    "df.head()"
   ]
  },
  {
   "cell_type": "code",
   "execution_count": 6,
   "id": "a715b283",
   "metadata": {},
   "outputs": [
    {
     "name": "stdout",
     "output_type": "stream",
     "text": [
      "Car_Name         0\n",
      "Year             0\n",
      "Selling_Price    0\n",
      "Present_Price    0\n",
      "Kms_Driven       0\n",
      "Fuel_Type        0\n",
      "Seller_Type      0\n",
      "Transmission     0\n",
      "Owner            0\n",
      "dtype: int64\n"
     ]
    }
   ],
   "source": [
    "print(df.isnull().sum())"
   ]
  },
  {
   "cell_type": "code",
   "execution_count": 7,
   "id": "9ec67462",
   "metadata": {},
   "outputs": [],
   "source": [
    "df=df[['Year','Selling_Price','Present_Price','Kms_Driven','Fuel_Type','Seller_Type','Transmission','Owner']]"
   ]
  },
  {
   "cell_type": "code",
   "execution_count": 8,
   "id": "c6ba18f2",
   "metadata": {},
   "outputs": [],
   "source": [
    "df.columns=['y','sprice','pprice','kms','fuel','seller','trans','owner']"
   ]
  },
  {
   "cell_type": "code",
   "execution_count": 9,
   "id": "fe7bca5f",
   "metadata": {},
   "outputs": [
    {
     "data": {
      "text/html": [
       "<div>\n",
       "<style scoped>\n",
       "    .dataframe tbody tr th:only-of-type {\n",
       "        vertical-align: middle;\n",
       "    }\n",
       "\n",
       "    .dataframe tbody tr th {\n",
       "        vertical-align: top;\n",
       "    }\n",
       "\n",
       "    .dataframe thead th {\n",
       "        text-align: right;\n",
       "    }\n",
       "</style>\n",
       "<table border=\"1\" class=\"dataframe\">\n",
       "  <thead>\n",
       "    <tr style=\"text-align: right;\">\n",
       "      <th></th>\n",
       "      <th>y</th>\n",
       "      <th>sprice</th>\n",
       "      <th>pprice</th>\n",
       "      <th>kms</th>\n",
       "      <th>fuel</th>\n",
       "      <th>seller</th>\n",
       "      <th>trans</th>\n",
       "      <th>owner</th>\n",
       "    </tr>\n",
       "  </thead>\n",
       "  <tbody>\n",
       "    <tr>\n",
       "      <th>0</th>\n",
       "      <td>7</td>\n",
       "      <td>3.35</td>\n",
       "      <td>5.59</td>\n",
       "      <td>27000</td>\n",
       "      <td>Petrol</td>\n",
       "      <td>Dealer</td>\n",
       "      <td>Manual</td>\n",
       "      <td>0</td>\n",
       "    </tr>\n",
       "    <tr>\n",
       "      <th>1</th>\n",
       "      <td>8</td>\n",
       "      <td>4.75</td>\n",
       "      <td>9.54</td>\n",
       "      <td>43000</td>\n",
       "      <td>Diesel</td>\n",
       "      <td>Dealer</td>\n",
       "      <td>Manual</td>\n",
       "      <td>0</td>\n",
       "    </tr>\n",
       "    <tr>\n",
       "      <th>2</th>\n",
       "      <td>4</td>\n",
       "      <td>7.25</td>\n",
       "      <td>9.85</td>\n",
       "      <td>6900</td>\n",
       "      <td>Petrol</td>\n",
       "      <td>Dealer</td>\n",
       "      <td>Manual</td>\n",
       "      <td>0</td>\n",
       "    </tr>\n",
       "    <tr>\n",
       "      <th>3</th>\n",
       "      <td>10</td>\n",
       "      <td>2.85</td>\n",
       "      <td>4.15</td>\n",
       "      <td>5200</td>\n",
       "      <td>Petrol</td>\n",
       "      <td>Dealer</td>\n",
       "      <td>Manual</td>\n",
       "      <td>0</td>\n",
       "    </tr>\n",
       "    <tr>\n",
       "      <th>4</th>\n",
       "      <td>7</td>\n",
       "      <td>4.60</td>\n",
       "      <td>6.87</td>\n",
       "      <td>42450</td>\n",
       "      <td>Diesel</td>\n",
       "      <td>Dealer</td>\n",
       "      <td>Manual</td>\n",
       "      <td>0</td>\n",
       "    </tr>\n",
       "  </tbody>\n",
       "</table>\n",
       "</div>"
      ],
      "text/plain": [
       "    y  sprice  pprice    kms    fuel  seller   trans  owner\n",
       "0   7    3.35    5.59  27000  Petrol  Dealer  Manual      0\n",
       "1   8    4.75    9.54  43000  Diesel  Dealer  Manual      0\n",
       "2   4    7.25    9.85   6900  Petrol  Dealer  Manual      0\n",
       "3  10    2.85    4.15   5200  Petrol  Dealer  Manual      0\n",
       "4   7    4.60    6.87  42450  Diesel  Dealer  Manual      0"
      ]
     },
     "execution_count": 9,
     "metadata": {},
     "output_type": "execute_result"
    }
   ],
   "source": [
    "df['now']=2021\n",
    "df['y']=df['now']-df['y']\n",
    "del df['now']\n",
    "df.head()"
   ]
  },
  {
   "cell_type": "code",
   "execution_count": 10,
   "id": "adbb50d7",
   "metadata": {},
   "outputs": [
    {
     "name": "stdout",
     "output_type": "stream",
     "text": [
      "['Petrol' 'Diesel' 'CNG']\n",
      "['Dealer' 'Individual']\n",
      "['Manual' 'Automatic']\n",
      "[0 1 3]\n"
     ]
    }
   ],
   "source": [
    "for field in ['fuel','seller','trans','owner']:\n",
    "    print(df[field].unique())"
   ]
  },
  {
   "cell_type": "code",
   "execution_count": 11,
   "id": "19b46b1e",
   "metadata": {},
   "outputs": [
    {
     "data": {
      "text/html": [
       "<div>\n",
       "<style scoped>\n",
       "    .dataframe tbody tr th:only-of-type {\n",
       "        vertical-align: middle;\n",
       "    }\n",
       "\n",
       "    .dataframe tbody tr th {\n",
       "        vertical-align: top;\n",
       "    }\n",
       "\n",
       "    .dataframe thead th {\n",
       "        text-align: right;\n",
       "    }\n",
       "</style>\n",
       "<table border=\"1\" class=\"dataframe\">\n",
       "  <thead>\n",
       "    <tr style=\"text-align: right;\">\n",
       "      <th></th>\n",
       "      <th>y</th>\n",
       "      <th>sprice</th>\n",
       "      <th>pprice</th>\n",
       "      <th>kms</th>\n",
       "      <th>owner</th>\n",
       "      <th>fuel_Diesel</th>\n",
       "      <th>fuel_Petrol</th>\n",
       "      <th>seller_Individual</th>\n",
       "      <th>trans_Manual</th>\n",
       "    </tr>\n",
       "  </thead>\n",
       "  <tbody>\n",
       "    <tr>\n",
       "      <th>0</th>\n",
       "      <td>7</td>\n",
       "      <td>3.35</td>\n",
       "      <td>5.59</td>\n",
       "      <td>27000</td>\n",
       "      <td>0</td>\n",
       "      <td>0</td>\n",
       "      <td>1</td>\n",
       "      <td>0</td>\n",
       "      <td>1</td>\n",
       "    </tr>\n",
       "    <tr>\n",
       "      <th>1</th>\n",
       "      <td>8</td>\n",
       "      <td>4.75</td>\n",
       "      <td>9.54</td>\n",
       "      <td>43000</td>\n",
       "      <td>0</td>\n",
       "      <td>1</td>\n",
       "      <td>0</td>\n",
       "      <td>0</td>\n",
       "      <td>1</td>\n",
       "    </tr>\n",
       "    <tr>\n",
       "      <th>2</th>\n",
       "      <td>4</td>\n",
       "      <td>7.25</td>\n",
       "      <td>9.85</td>\n",
       "      <td>6900</td>\n",
       "      <td>0</td>\n",
       "      <td>0</td>\n",
       "      <td>1</td>\n",
       "      <td>0</td>\n",
       "      <td>1</td>\n",
       "    </tr>\n",
       "    <tr>\n",
       "      <th>3</th>\n",
       "      <td>10</td>\n",
       "      <td>2.85</td>\n",
       "      <td>4.15</td>\n",
       "      <td>5200</td>\n",
       "      <td>0</td>\n",
       "      <td>0</td>\n",
       "      <td>1</td>\n",
       "      <td>0</td>\n",
       "      <td>1</td>\n",
       "    </tr>\n",
       "    <tr>\n",
       "      <th>4</th>\n",
       "      <td>7</td>\n",
       "      <td>4.60</td>\n",
       "      <td>6.87</td>\n",
       "      <td>42450</td>\n",
       "      <td>0</td>\n",
       "      <td>1</td>\n",
       "      <td>0</td>\n",
       "      <td>0</td>\n",
       "      <td>1</td>\n",
       "    </tr>\n",
       "  </tbody>\n",
       "</table>\n",
       "</div>"
      ],
      "text/plain": [
       "    y  sprice  pprice    kms  owner  fuel_Diesel  fuel_Petrol  \\\n",
       "0   7    3.35    5.59  27000      0            0            1   \n",
       "1   8    4.75    9.54  43000      0            1            0   \n",
       "2   4    7.25    9.85   6900      0            0            1   \n",
       "3  10    2.85    4.15   5200      0            0            1   \n",
       "4   7    4.60    6.87  42450      0            1            0   \n",
       "\n",
       "   seller_Individual  trans_Manual  \n",
       "0                  0             1  \n",
       "1                  0             1  \n",
       "2                  0             1  \n",
       "3                  0             1  \n",
       "4                  0             1  "
      ]
     },
     "execution_count": 11,
     "metadata": {},
     "output_type": "execute_result"
    }
   ],
   "source": [
    "df=pd.get_dummies(df,drop_first=True)\n",
    "df.head()"
   ]
  },
  {
   "cell_type": "code",
   "execution_count": 12,
   "id": "ef35832a",
   "metadata": {},
   "outputs": [
    {
     "data": {
      "image/png": "[encoded data removed]",
      "text/plain": [
       "<Figure size 1440x1440 with 2 Axes>"
      ]
     },
     "metadata": {
      "needs_background": "light"
     },
     "output_type": "display_data"
    }
   ],
   "source": [
    "corrmatrix=df.corr()\n",
    "plt.figure(figsize=(20,20))\n",
    "g=sns.heatmap(corrmatrix,annot=True,cmap='RdGy')"
   ]
  },
  {
   "cell_type": "code",
   "execution_count": 13,
   "id": "da530f02",
   "metadata": {},
   "outputs": [
    {
     "data": {
      "text/html": [
       "<div>\n",
       "<style scoped>\n",
       "    .dataframe tbody tr th:only-of-type {\n",
       "        vertical-align: middle;\n",
       "    }\n",
       "\n",
       "    .dataframe tbody tr th {\n",
       "        vertical-align: top;\n",
       "    }\n",
       "\n",
       "    .dataframe thead th {\n",
       "        text-align: right;\n",
       "    }\n",
       "</style>\n",
       "<table border=\"1\" class=\"dataframe\">\n",
       "  <thead>\n",
       "    <tr style=\"text-align: right;\">\n",
       "      <th></th>\n",
       "      <th>y</th>\n",
       "      <th>pprice</th>\n",
       "      <th>kms</th>\n",
       "      <th>owner</th>\n",
       "      <th>fuel_Diesel</th>\n",
       "      <th>fuel_Petrol</th>\n",
       "      <th>seller_Individual</th>\n",
       "      <th>trans_Manual</th>\n",
       "    </tr>\n",
       "  </thead>\n",
       "  <tbody>\n",
       "    <tr>\n",
       "      <th>0</th>\n",
       "      <td>7</td>\n",
       "      <td>5.59</td>\n",
       "      <td>27000</td>\n",
       "      <td>0</td>\n",
       "      <td>0</td>\n",
       "      <td>1</td>\n",
       "      <td>0</td>\n",
       "      <td>1</td>\n",
       "    </tr>\n",
       "    <tr>\n",
       "      <th>1</th>\n",
       "      <td>8</td>\n",
       "      <td>9.54</td>\n",
       "      <td>43000</td>\n",
       "      <td>0</td>\n",
       "      <td>1</td>\n",
       "      <td>0</td>\n",
       "      <td>0</td>\n",
       "      <td>1</td>\n",
       "    </tr>\n",
       "    <tr>\n",
       "      <th>2</th>\n",
       "      <td>4</td>\n",
       "      <td>9.85</td>\n",
       "      <td>6900</td>\n",
       "      <td>0</td>\n",
       "      <td>0</td>\n",
       "      <td>1</td>\n",
       "      <td>0</td>\n",
       "      <td>1</td>\n",
       "    </tr>\n",
       "    <tr>\n",
       "      <th>3</th>\n",
       "      <td>10</td>\n",
       "      <td>4.15</td>\n",
       "      <td>5200</td>\n",
       "      <td>0</td>\n",
       "      <td>0</td>\n",
       "      <td>1</td>\n",
       "      <td>0</td>\n",
       "      <td>1</td>\n",
       "    </tr>\n",
       "    <tr>\n",
       "      <th>4</th>\n",
       "      <td>7</td>\n",
       "      <td>6.87</td>\n",
       "      <td>42450</td>\n",
       "      <td>0</td>\n",
       "      <td>1</td>\n",
       "      <td>0</td>\n",
       "      <td>0</td>\n",
       "      <td>1</td>\n",
       "    </tr>\n",
       "  </tbody>\n",
       "</table>\n",
       "</div>"
      ],
      "text/plain": [
       "    y  pprice    kms  owner  fuel_Diesel  fuel_Petrol  seller_Individual  \\\n",
       "0   7    5.59  27000      0            0            1                  0   \n",
       "1   8    9.54  43000      0            1            0                  0   \n",
       "2   4    9.85   6900      0            0            1                  0   \n",
       "3  10    4.15   5200      0            0            1                  0   \n",
       "4   7    6.87  42450      0            1            0                  0   \n",
       "\n",
       "   trans_Manual  \n",
       "0             1  \n",
       "1             1  \n",
       "2             1  \n",
       "3             1  \n",
       "4             1  "
      ]
     },
     "execution_count": 13,
     "metadata": {},
     "output_type": "execute_result"
    }
   ],
   "source": [
    "target=df['sprice']\n",
    "df.drop(['sprice'],axis=1,inplace=True)\n",
    "df.head()"
   ]
  },
  {
   "cell_type": "code",
   "execution_count": 14,
   "id": "002bfb6b",
   "metadata": {},
   "outputs": [
    {
     "data": {
      "text/plain": [
       "ExtraTreesRegressor()"
      ]
     },
     "execution_count": 14,
     "metadata": {},
     "output_type": "execute_result"
    }
   ],
   "source": [
    "from sklearn.ensemble import ExtraTreesRegressor\n",
    "model=ExtraTreesRegressor()\n",
    "model.fit(df,target)"
   ]
  },
  {
   "cell_type": "code",
   "execution_count": 15,
   "id": "262c066c",
   "metadata": {},
   "outputs": [
    {
     "data": {
      "text/plain": [
       "<AxesSubplot:>"
      ]
     },
     "execution_count": 15,
     "metadata": {},
     "output_type": "execute_result"
    },
    {
     "data": {
      "image/png": "[encoded data removed]",
      "text/plain": [
       "<Figure size 432x288 with 1 Axes>"
      ]
     },
     "metadata": {
      "needs_background": "light"
     },
     "output_type": "display_data"
    }
   ],
   "source": [
    "features=pd.Series(model.feature_importances_, index=df.columns)\n",
    "features.nlargest(5).plot(kind='bar')"
   ]
  },
  {
   "cell_type": "code",
   "execution_count": 16,
   "id": "6d9a2035",
   "metadata": {},
   "outputs": [],
   "source": [
    "from sklearn.model_selection import train_test_split\n",
    "\n",
    "X_train, X_test, y_train, y_test = train_test_split(df,target, test_size=0.33)"
   ]
  },
  {
   "cell_type": "code",
   "execution_count": 17,
   "id": "bc248e1c",
   "metadata": {},
   "outputs": [
    {
     "data": {
      "text/plain": [
       "(201, 8)"
      ]
     },
     "execution_count": 17,
     "metadata": {},
     "output_type": "execute_result"
    }
   ],
   "source": [
    "X_train.shape"
   ]
  },
  {
   "cell_type": "code",
   "execution_count": 18,
   "id": "58ec293b",
   "metadata": {},
   "outputs": [],
   "source": [
    "from sklearn.ensemble import RandomForestRegressor\n",
    "rf=RandomForestRegressor(n_estimators=100)"
   ]
  },
  {
   "cell_type": "code",
   "execution_count": 19,
   "id": "4280cc8a",
   "metadata": {},
   "outputs": [],
   "source": [
    "n_estimators=[int(x) for x in np.linspace(100,1000,num=10)]\n",
    "max_features=['auto','sqrt']\n",
    "max_depth=[int(x) for x in np.linspace(5,30,num=10)]"
   ]
  },
  {
   "cell_type": "code",
   "execution_count": 20,
   "id": "a3401b11",
   "metadata": {},
   "outputs": [
    {
     "name": "stdout",
     "output_type": "stream",
     "text": [
      "{'n_estimators': [100, 200, 300, 400, 500, 600, 700, 800, 900, 1000], 'max_features': ['auto', 'sqrt'], 'max_depth': [5, 7, 10, 13, 16, 18, 21, 24, 27, 30]}\n"
     ]
    }
   ],
   "source": [
    "from sklearn.model_selection import RandomizedSearchCV\n",
    "params={'n_estimators':n_estimators,\n",
    "        'max_features':max_features,\n",
    "        'max_depth':max_depth,\n",
    "       }\n",
    "print(params)\n"
   ]
  },
  {
   "cell_type": "code",
   "execution_count": 21,
   "id": "4e6c5798",
   "metadata": {},
   "outputs": [],
   "source": [
    "rf_random=RandomizedSearchCV(estimator=rf, param_distributions=params,n_iter=10,cv=10,verbose=2,random_state=42, n_jobs=1)"
   ]
  },
  {
   "cell_type": "code",
   "execution_count": 22,
   "id": "8f51188a",
   "metadata": {},
   "outputs": [
    {
     "name": "stdout",
     "output_type": "stream",
     "text": [
      "Fitting 10 folds for each of 10 candidates, totalling 100 fits\n",
      "[CV] END ..max_depth=16, max_features=sqrt, n_estimators=600; total time=   1.6s\n",
      "[CV] END ..max_depth=16, max_features=sqrt, n_estimators=600; total time=   1.4s\n",
      "[CV] END ..max_depth=16, max_features=sqrt, n_estimators=600; total time=   1.3s\n",
      "[CV] END ..max_depth=16, max_features=sqrt, n_estimators=600; total time=   1.4s\n",
      "[CV] END ..max_depth=16, max_features=sqrt, n_estimators=600; total time=   2.3s\n",
      "[CV] END ..max_depth=16, max_features=sqrt, n_estimators=600; total time=   2.2s\n",
      "[CV] END ..max_depth=16, max_features=sqrt, n_estimators=600; total time=   2.6s\n",
      "[CV] END ..max_depth=16, max_features=sqrt, n_estimators=600; total time=   2.3s\n",
      "[CV] END ..max_depth=16, max_features=sqrt, n_estimators=600; total time=   2.2s\n",
      "[CV] END ..max_depth=16, max_features=sqrt, n_estimators=600; total time=   2.5s\n",
      "[CV] END ...max_depth=5, max_features=sqrt, n_estimators=600; total time=   2.1s\n",
      "[CV] END ...max_depth=5, max_features=sqrt, n_estimators=600; total time=   1.7s\n",
      "[CV] END ...max_depth=5, max_features=sqrt, n_estimators=600; total time=   1.5s\n",
      "[CV] END ...max_depth=5, max_features=sqrt, n_estimators=600; total time=   1.3s\n",
      "[CV] END ...max_depth=5, max_features=sqrt, n_estimators=600; total time=   1.2s\n",
      "[CV] END ...max_depth=5, max_features=sqrt, n_estimators=600; total time=   1.5s\n",
      "[CV] END ...max_depth=5, max_features=sqrt, n_estimators=600; total time=   1.5s\n",
      "[CV] END ...max_depth=5, max_features=sqrt, n_estimators=600; total time=   1.3s\n",
      "[CV] END ...max_depth=5, max_features=sqrt, n_estimators=600; total time=   1.3s\n",
      "[CV] END ...max_depth=5, max_features=sqrt, n_estimators=600; total time=   1.5s\n",
      "[CV] END ...max_depth=7, max_features=sqrt, n_estimators=100; total time=   0.1s\n",
      "[CV] END ...max_depth=7, max_features=sqrt, n_estimators=100; total time=   0.1s\n",
      "[CV] END ...max_depth=7, max_features=sqrt, n_estimators=100; total time=   0.1s\n",
      "[CV] END ...max_depth=7, max_features=sqrt, n_estimators=100; total time=   0.1s\n",
      "[CV] END ...max_depth=7, max_features=sqrt, n_estimators=100; total time=   0.1s\n",
      "[CV] END ...max_depth=7, max_features=sqrt, n_estimators=100; total time=   0.1s\n",
      "[CV] END ...max_depth=7, max_features=sqrt, n_estimators=100; total time=   0.2s\n",
      "[CV] END ...max_depth=7, max_features=sqrt, n_estimators=100; total time=   0.1s\n",
      "[CV] END ...max_depth=7, max_features=sqrt, n_estimators=100; total time=   0.1s\n",
      "[CV] END ...max_depth=7, max_features=sqrt, n_estimators=100; total time=   0.1s\n",
      "[CV] END ..max_depth=24, max_features=sqrt, n_estimators=900; total time=   2.0s\n",
      "[CV] END ..max_depth=24, max_features=sqrt, n_estimators=900; total time=   2.1s\n",
      "[CV] END ..max_depth=24, max_features=sqrt, n_estimators=900; total time=   1.9s\n",
      "[CV] END ..max_depth=24, max_features=sqrt, n_estimators=900; total time=   1.9s\n",
      "[CV] END ..max_depth=24, max_features=sqrt, n_estimators=900; total time=   2.1s\n",
      "[CV] END ..max_depth=24, max_features=sqrt, n_estimators=900; total time=   2.0s\n",
      "[CV] END ..max_depth=24, max_features=sqrt, n_estimators=900; total time=   2.1s\n",
      "[CV] END ..max_depth=24, max_features=sqrt, n_estimators=900; total time=   1.9s\n",
      "[CV] END ..max_depth=24, max_features=sqrt, n_estimators=900; total time=   1.9s\n",
      "[CV] END ..max_depth=24, max_features=sqrt, n_estimators=900; total time=   1.9s\n",
      "[CV] END ..max_depth=21, max_features=auto, n_estimators=900; total time=   2.0s\n",
      "[CV] END ..max_depth=21, max_features=auto, n_estimators=900; total time=   2.0s\n",
      "[CV] END ..max_depth=21, max_features=auto, n_estimators=900; total time=   2.0s\n",
      "[CV] END ..max_depth=21, max_features=auto, n_estimators=900; total time=   2.2s\n",
      "[CV] END ..max_depth=21, max_features=auto, n_estimators=900; total time=   2.1s\n",
      "[CV] END ..max_depth=21, max_features=auto, n_estimators=900; total time=   2.1s\n",
      "[CV] END ..max_depth=21, max_features=auto, n_estimators=900; total time=   2.1s\n",
      "[CV] END ..max_depth=21, max_features=auto, n_estimators=900; total time=   2.0s\n",
      "[CV] END ..max_depth=21, max_features=auto, n_estimators=900; total time=   2.0s\n",
      "[CV] END ..max_depth=21, max_features=auto, n_estimators=900; total time=   2.0s\n",
      "[CV] END ..max_depth=18, max_features=sqrt, n_estimators=600; total time=   1.2s\n",
      "[CV] END ..max_depth=18, max_features=sqrt, n_estimators=600; total time=   1.2s\n",
      "[CV] END ..max_depth=18, max_features=sqrt, n_estimators=600; total time=   1.2s\n",
      "[CV] END ..max_depth=18, max_features=sqrt, n_estimators=600; total time=   1.3s\n",
      "[CV] END ..max_depth=18, max_features=sqrt, n_estimators=600; total time=   1.2s\n",
      "[CV] END ..max_depth=18, max_features=sqrt, n_estimators=600; total time=   1.2s\n",
      "[CV] END ..max_depth=18, max_features=sqrt, n_estimators=600; total time=   1.2s\n",
      "[CV] END ..max_depth=18, max_features=sqrt, n_estimators=600; total time=   1.2s\n",
      "[CV] END ..max_depth=18, max_features=sqrt, n_estimators=600; total time=   1.2s\n",
      "[CV] END ..max_depth=18, max_features=sqrt, n_estimators=600; total time=   1.2s\n",
      "[CV] END .max_depth=13, max_features=auto, n_estimators=1000; total time=   2.2s\n",
      "[CV] END .max_depth=13, max_features=auto, n_estimators=1000; total time=   2.2s\n",
      "[CV] END .max_depth=13, max_features=auto, n_estimators=1000; total time=   2.4s\n",
      "[CV] END .max_depth=13, max_features=auto, n_estimators=1000; total time=   2.3s\n",
      "[CV] END .max_depth=13, max_features=auto, n_estimators=1000; total time=   2.3s\n",
      "[CV] END .max_depth=13, max_features=auto, n_estimators=1000; total time=   2.2s\n",
      "[CV] END .max_depth=13, max_features=auto, n_estimators=1000; total time=   2.3s\n",
      "[CV] END .max_depth=13, max_features=auto, n_estimators=1000; total time=   2.4s\n",
      "[CV] END .max_depth=13, max_features=auto, n_estimators=1000; total time=   2.2s\n",
      "[CV] END .max_depth=13, max_features=auto, n_estimators=1000; total time=   2.3s\n",
      "[CV] END ..max_depth=27, max_features=sqrt, n_estimators=100; total time=   0.1s\n",
      "[CV] END ..max_depth=27, max_features=sqrt, n_estimators=100; total time=   0.2s\n",
      "[CV] END ..max_depth=27, max_features=sqrt, n_estimators=100; total time=   0.1s\n",
      "[CV] END ..max_depth=27, max_features=sqrt, n_estimators=100; total time=   0.2s\n",
      "[CV] END ..max_depth=27, max_features=sqrt, n_estimators=100; total time=   0.1s\n",
      "[CV] END ..max_depth=27, max_features=sqrt, n_estimators=100; total time=   0.1s\n",
      "[CV] END ..max_depth=27, max_features=sqrt, n_estimators=100; total time=   0.1s\n",
      "[CV] END ..max_depth=27, max_features=sqrt, n_estimators=100; total time=   0.1s\n",
      "[CV] END ..max_depth=27, max_features=sqrt, n_estimators=100; total time=   0.2s\n",
      "[CV] END ..max_depth=27, max_features=sqrt, n_estimators=100; total time=   0.1s\n",
      "[CV] END ..max_depth=27, max_features=sqrt, n_estimators=500; total time=   1.2s\n",
      "[CV] END ..max_depth=27, max_features=sqrt, n_estimators=500; total time=   1.5s\n",
      "[CV] END ..max_depth=27, max_features=sqrt, n_estimators=500; total time=   1.2s\n",
      "[CV] END ..max_depth=27, max_features=sqrt, n_estimators=500; total time=   1.1s\n",
      "[CV] END ..max_depth=27, max_features=sqrt, n_estimators=500; total time=   1.1s\n",
      "[CV] END ..max_depth=27, max_features=sqrt, n_estimators=500; total time=   1.1s\n",
      "[CV] END ..max_depth=27, max_features=sqrt, n_estimators=500; total time=   1.2s\n",
      "[CV] END ..max_depth=27, max_features=sqrt, n_estimators=500; total time=   1.1s\n",
      "[CV] END ..max_depth=27, max_features=sqrt, n_estimators=500; total time=   1.2s\n",
      "[CV] END ..max_depth=27, max_features=sqrt, n_estimators=500; total time=   1.0s\n",
      "[CV] END ..max_depth=10, max_features=auto, n_estimators=600; total time=   1.5s\n",
      "[CV] END ..max_depth=10, max_features=auto, n_estimators=600; total time=   1.6s\n",
      "[CV] END ..max_depth=10, max_features=auto, n_estimators=600; total time=   1.4s\n",
      "[CV] END ..max_depth=10, max_features=auto, n_estimators=600; total time=   1.5s\n",
      "[CV] END ..max_depth=10, max_features=auto, n_estimators=600; total time=   1.3s\n",
      "[CV] END ..max_depth=10, max_features=auto, n_estimators=600; total time=   1.5s\n",
      "[CV] END ..max_depth=10, max_features=auto, n_estimators=600; total time=   1.3s\n",
      "[CV] END ..max_depth=10, max_features=auto, n_estimators=600; total time=   1.3s\n",
      "[CV] END ..max_depth=10, max_features=auto, n_estimators=600; total time=   1.5s\n",
      "[CV] END ..max_depth=10, max_features=auto, n_estimators=600; total time=   1.9s\n"
     ]
    },
    {
     "data": {
      "text/plain": [
       "RandomizedSearchCV(cv=10, estimator=RandomForestRegressor(), n_jobs=1,\n",
       "                   param_distributions={'max_depth': [5, 7, 10, 13, 16, 18, 21,\n",
       "                                                      24, 27, 30],\n",
       "                                        'max_features': ['auto', 'sqrt'],\n",
       "                                        'n_estimators': [100, 200, 300, 400,\n",
       "                                                         500, 600, 700, 800,\n",
       "                                                         900, 1000]},\n",
       "                   random_state=42, verbose=2)"
      ]
     },
     "execution_count": 22,
     "metadata": {},
     "output_type": "execute_result"
    }
   ],
   "source": [
    "rf_random.fit(X_train,y_train)"
   ]
  },
  {
   "cell_type": "code",
   "execution_count": 23,
   "id": "010aa621",
   "metadata": {},
   "outputs": [],
   "source": [
    "predicted=rf_random.predict(X_test)"
   ]
  },
  {
   "cell_type": "code",
   "execution_count": 24,
   "id": "38d4e299",
   "metadata": {},
   "outputs": [
    {
     "name": "stderr",
     "output_type": "stream",
     "text": [
      "C:\\Users\\Admin\\anaconda3\\lib\\site-packages\\seaborn\\distributions.py:2557: FutureWarning: `distplot` is a deprecated function and will be removed in a future version. Please adapt your code to use either `displot` (a figure-level function with similar flexibility) or `histplot` (an axes-level function for histograms).\n",
      "  warnings.warn(msg, FutureWarning)\n"
     ]
    },
    {
     "data": {
      "text/plain": [
       "<AxesSubplot:xlabel='sprice', ylabel='Density'>"
      ]
     },
     "execution_count": 24,
     "metadata": {},
     "output_type": "execute_result"
    },
    {
     "data": {
      "image/png": "[encoded data removed]",
      "text/plain": [
       "<Figure size 432x288 with 1 Axes>"
      ]
     },
     "metadata": {
      "needs_background": "light"
     },
     "output_type": "display_data"
    }
   ],
   "source": [
    "sns.distplot(y_test-predicted)"
   ]
  },
  {
   "cell_type": "code",
   "execution_count": 25,
   "id": "8b5b29cd",
   "metadata": {},
   "outputs": [],
   "source": [
    "import pickle\n",
    "file=open('random_forest_regression_model.pkl','wb')\n",
    "with open(\"pickletest.pickle\", \"wb\") as file:\n",
    "    pickle.dump(rf_random, file)\n",
    "file.close()"
   ]
  },
  {
   "cell_type": "code",
   "execution_count": null,
   "id": "77dd5f0e",
   "metadata": {},
   "outputs": [],
   "source": []
  }
 ],
 "metadata": {
  "kernelspec": {
   "name": "python3",
   "display_name": "Python 3.8.10 64-bit ('carpredict': conda)"
  },
  "language_info": {
   "codemirror_mode": {
    "name": "ipython",
    "version": 3
   },
   "file_extension": ".py",
   "mimetype": "text/x-python",
   "name": "python",
   "nbconvert_exporter": "python",
   "pygments_lexer": "ipython3",
   "version": "3.8.10"
  },
  "interpreter": {
   "hash": "e3db9dfd5fb7a31cbb552a291313bb4f1e9383fe1f8025a04a3d4c9b229b8cc3"
  }
 },
 "nbformat": 4,
 "nbformat_minor": 5
}